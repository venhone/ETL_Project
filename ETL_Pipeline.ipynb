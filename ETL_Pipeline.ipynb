{
 "cells": [
  {
   "cell_type": "code",
   "execution_count": 59,
   "metadata": {},
   "outputs": [],
   "source": [
    "from pyspark.sql import SparkSession\n",
    "from pyspark.sql.functions import coalesce,col"
   ]
  },
  {
   "cell_type": "code",
   "execution_count": 2,
   "metadata": {},
   "outputs": [],
   "source": [
    "spark = SparkSession.builder.config('spark.jars.packages','com.datastax.spark:spark-cassandra-connector_2.12:3.1.0').getOrCreate()"
   ]
  },
  {
   "attachments": {},
   "cell_type": "markdown",
   "metadata": {},
   "source": [
    "<b> Đọc data từ Cassandra</b>"
   ]
  },
  {
   "cell_type": "code",
   "execution_count": 3,
   "metadata": {},
   "outputs": [],
   "source": [
    "data = spark.read.format(\"org.apache.spark.sql.cassandra\").options(table = 'tracking',keyspace = 'study_de').load()"
   ]
  },
  {
   "cell_type": "code",
   "execution_count": 4,
   "metadata": {},
   "outputs": [
    {
     "name": "stdout",
     "output_type": "stream",
     "text": [
      "+--------------------+----+----------+-----------+----+------------+-----+--------------------+---------------+--------------------+---+--------+----+------+----+------------+--------------------+---------+--------------------+------+--------------------+-------------------+------------+-----------+----------+----------+--------+---+--------+\n",
      "|         create_time| bid|        bn|campaign_id|  cd|custom_track|   de|                  dl|             dt|                  ed| ev|group_id|  id|job_id|  md|publisher_id|                  rl|       sr|                  ts|    tz|                  ua|                uid|utm_campaign|utm_content|utm_medium|utm_source|utm_term|  v|      vp|\n",
      "+--------------------+----+----------+-----------+----+------------+-----+--------------------+---------------+--------------------+---+--------+----+------+----+------------+--------------------+---------+--------------------+------+--------------------+-------------------+------------+-----------+----------+----------+--------+---+--------+\n",
      "|26e3bd30-0901-11e...|null|Chrome 103|       null|24.0|        null|UTF-8|http://129.213.68...|CandidatePortal|                null|1.0|    null|null|  null|true|        null|                null|1920x1080|2022-07-21 14:26:...| 240.0|Mozilla/5.0 (Wind...|1-eb7odtp7-l4o6dg83|        null|       null|      null|      null|    null|1.0|1920x961|\n",
      "|45924930-07ea-11e...|null|Chrome 102|       null|24.0|        null|UTF-8|http://localhost:...|CandidatePortal|                null|1.0|    null|null|  null|true|        null|http://localhost:...|1920x1080|2022-07-20 05:10:...|-420.0|Mozilla/5.0 (Maci...|1-ok78d38x-l5j7ka8p|        null|       null|      null|      null|    null|1.0|1920x925|\n",
      "|5e1ca380-0bfd-11e...| 1.0|Chrome 103|       48.0|24.0|        null|UTF-8|http://fe.dev.got...|CandidatePortal|                null|1.0|    34.0|null| 188.0|true|         1.0|                null| 1366x768|2022-07-25 09:37:...|-420.0|Mozilla/5.0 (Wind...|1-yh82s4al-l60jlqwa|        null|       null|      null|      null|    null|1.0|1366x568|\n",
      "|8d94b270-0bfc-11e...| 1.0|Chrome 103|       48.0|24.0|       click|UTF-8|http://fe.dev.got...|CandidatePortal|{\"customEvent\":\"c...|2.0|    34.0|null| 188.0|true|         1.0|                null| 1366x768|2022-07-25 09:31:...|-420.0|Mozilla/5.0 (Wind...|1-yh82s4al-l60jlqwa|        null|       null|      null|      null|    null|1.0|1366x568|\n",
      "|2d0fd8e0-0c00-11e...| 0.0|Chrome 103|      222.0|24.0|        null|UTF-8|http://fe.dev.got...|CandidatePortal|                null|1.0|    null|null|1529.0|true|         1.0|                null| 1366x768|2022-07-25 09:57:...|-420.0|Mozilla/5.0 (Wind...|1-yh82s4al-l60jlqwa|        null|       null|      null|      null|    null|1.0|1366x625|\n",
      "+--------------------+----+----------+-----------+----+------------+-----+--------------------+---------------+--------------------+---+--------+----+------+----+------------+--------------------+---------+--------------------+------+--------------------+-------------------+------------+-----------+----------+----------+--------+---+--------+\n",
      "only showing top 5 rows\n",
      "\n"
     ]
    }
   ],
   "source": [
    "data.show(5)"
   ]
  },
  {
   "attachments": {},
   "cell_type": "markdown",
   "metadata": {},
   "source": [
    "<b> Đọc Data từ MySQL"
   ]
  },
  {
   "cell_type": "code",
   "execution_count": 5,
   "metadata": {},
   "outputs": [],
   "source": [
    "df = spark.read \\\n",
    "    .format(\"jdbc\") \\\n",
    "    .option(\"driver\",\"com.mysql.cj.jdbc.Driver\") \\\n",
    "    .option(\"url\", \"jdbc:mysql://localhost:3306/data_engineering\") \\\n",
    "    .option(\"dbtable\", \"events\") \\\n",
    "    .option(\"user\", \"root\") \\\n",
    "    .option(\"password\", \"1\") \\\n",
    "    .load()"
   ]
  },
  {
   "cell_type": "code",
   "execution_count": 6,
   "metadata": {},
   "outputs": [
    {
     "name": "stdout",
     "output_type": "stream",
     "text": [
      "+----+------+----------+-----+------------------------+---------------------+----------+----------+--------+-----------+------------+-------+------+-----------+----------+---------+\n",
      "|  id|job_id|     dates|hours|disqualified_application|qualified_application|conversion|company_id|group_id|campaign_id|publisher_id|bid_set|clicks|impressions|spend_hour|  sources|\n",
      "+----+------+----------+-----+------------------------+---------------------+----------+----------+--------+-----------+------------+-------+------+-----------+----------+---------+\n",
      "|2089|    98|2022-07-08|    9|                       1|                    0|         1|         1|    null|          4|           1|    2.0|   108|       null|     216.0|Cassandra|\n",
      "|2090|    98|2022-07-13|   15|                       1|                    0|         1|         1|    null|          4|           1|    2.0|     1|       null|       2.0|Cassandra|\n",
      "|2091|   187|2022-07-08|    4|                       1|                    0|         1|        33|    null|         48|           1|    0.0|     2|       null|       0.0|Cassandra|\n",
      "|2092|   187|2022-07-08|    6|                       1|                    0|         1|        33|    null|         48|           1|    1.5|     6|       null|       9.0|Cassandra|\n",
      "|2093|   258|2022-07-08|    9|                       1|                    0|         1|        33|    null|         93|           3|    2.0|     1|       null|       2.0|Cassandra|\n",
      "+----+------+----------+-----+------------------------+---------------------+----------+----------+--------+-----------+------------+-------+------+-----------+----------+---------+\n",
      "only showing top 5 rows\n",
      "\n"
     ]
    }
   ],
   "source": [
    "df.show(5)"
   ]
  },
  {
   "cell_type": "code",
   "execution_count": 7,
   "metadata": {},
   "outputs": [
    {
     "name": "stdout",
     "output_type": "stream",
     "text": [
      "root\n",
      " |-- id: integer (nullable = true)\n",
      " |-- job_id: integer (nullable = true)\n",
      " |-- dates: date (nullable = true)\n",
      " |-- hours: integer (nullable = true)\n",
      " |-- disqualified_application: integer (nullable = true)\n",
      " |-- qualified_application: integer (nullable = true)\n",
      " |-- conversion: integer (nullable = true)\n",
      " |-- company_id: integer (nullable = true)\n",
      " |-- group_id: integer (nullable = true)\n",
      " |-- campaign_id: integer (nullable = true)\n",
      " |-- publisher_id: integer (nullable = true)\n",
      " |-- bid_set: double (nullable = true)\n",
      " |-- clicks: integer (nullable = true)\n",
      " |-- impressions: string (nullable = true)\n",
      " |-- spend_hour: double (nullable = true)\n",
      " |-- sources: string (nullable = true)\n",
      "\n"
     ]
    }
   ],
   "source": [
    "df.printSchema()"
   ]
  },
  {
   "attachments": {},
   "cell_type": "markdown",
   "metadata": {},
   "source": [
    "<b> Load dữ liệu vào bảng Test trong MySQL"
   ]
  },
  {
   "cell_type": "code",
   "execution_count": 9,
   "metadata": {},
   "outputs": [],
   "source": [
    "df.write.format('jdbc').option('url','jdbc:mysql://localhost:3306/data_engineering')\\\n",
    "    .option('driver','com.mysql.cj.jdbc.Driver')\\\n",
    "    .option('dbtable','Test')\\\n",
    "    .option('user','root')\\\n",
    "    .option('password','1').mode('append').save()"
   ]
  },
  {
   "cell_type": "code",
   "execution_count": 10,
   "metadata": {},
   "outputs": [],
   "source": [
    "data = data.select('ts','job_id','custom_track','bid','campaign_id','group_id','publisher_id')\n",
    "data = data.filter(data.job_id.isNotNull())"
   ]
  },
  {
   "cell_type": "code",
   "execution_count": 11,
   "metadata": {},
   "outputs": [
    {
     "name": "stdout",
     "output_type": "stream",
     "text": [
      "+--------------------+------+------------+---+-----------+--------+------------+\n",
      "|                  ts|job_id|custom_track|bid|campaign_id|group_id|publisher_id|\n",
      "+--------------------+------+------------+---+-----------+--------+------------+\n",
      "|2022-07-27 04:04:...| 336.0|        null|1.0|       15.0|    null|         1.0|\n",
      "|2022-07-26 06:47:...| 187.0|        null|1.0|       48.0|    34.0|         1.0|\n",
      "|2022-07-26 06:52:...|  98.0|       click|2.0|        4.0|    null|         1.0|\n",
      "|2022-07-08 09:30:...|  98.0|       click|2.0|        4.0|    null|         1.0|\n",
      "| 2023-01-14 21:49:14|1400.0|   qualified|1.0|       79.0|    17.0|        30.0|\n",
      "|2022-07-26 06:48:...| 187.0|       click|1.0|       48.0|    34.0|         1.0|\n",
      "| 2023-01-14 21:47:14|1981.0|   qualified|1.0|       13.0|    15.0|        30.0|\n",
      "|2022-07-27 04:08:...|  98.0|       click|2.0|        4.0|    null|         1.0|\n",
      "|2022-07-26 07:05:...|1532.0|       click|0.0|      222.0|    null|         1.0|\n",
      "|2022-07-24 10:05:...| 188.0|        null|1.0|       48.0|    34.0|         1.0|\n",
      "|2022-07-25 09:43:...| 188.0|       click|1.0|       48.0|    34.0|         1.0|\n",
      "|2022-07-26 02:43:...| 440.0|        null|7.0|        1.0|    null|         1.0|\n",
      "|2022-07-25 09:50:...|1533.0|        null|0.0|      222.0|    null|         1.0|\n",
      "|2022-07-24 14:05:...| 188.0|        null|1.0|       48.0|    34.0|         1.0|\n",
      "|2022-07-24 10:06:...| 188.0|       click|1.0|       48.0|    34.0|         1.0|\n",
      "|2022-07-27 04:03:...| 187.0|       click|1.0|       48.0|    34.0|         1.0|\n",
      "|2022-07-26 03:02:...|1533.0|        null|0.0|      222.0|    null|         1.0|\n",
      "|2022-07-26 02:50:...| 273.0|        null|0.0|       48.0|    null|         1.0|\n",
      "|2022-07-25 09:50:...|1534.0|       click|0.0|      222.0|    null|         1.0|\n",
      "|2022-07-08 09:43:...|  98.0|       click|2.0|        4.0|    null|         1.0|\n",
      "+--------------------+------+------------+---+-----------+--------+------------+\n",
      "only showing top 20 rows\n",
      "\n"
     ]
    }
   ],
   "source": [
    "data.show()"
   ]
  },
  {
   "cell_type": "code",
   "execution_count": 12,
   "metadata": {},
   "outputs": [
    {
     "name": "stdout",
     "output_type": "stream",
     "text": [
      "+------------+\n",
      "|custom_track|\n",
      "+------------+\n",
      "|  conversion|\n",
      "|        null|\n",
      "|       click|\n",
      "| unqualified|\n",
      "|       alive|\n",
      "|   qualified|\n",
      "+------------+\n",
      "\n"
     ]
    }
   ],
   "source": [
    "data.select(\"custom_track\").distinct().show()"
   ]
  },
  {
   "cell_type": "code",
   "execution_count": 13,
   "metadata": {},
   "outputs": [
    {
     "data": {
      "text/plain": [
       "DataFrame[ts: string, job_id: double, custom_track: string, bid: double, campaign_id: double, group_id: double, publisher_id: double]"
      ]
     },
     "execution_count": 13,
     "metadata": {},
     "output_type": "execute_result"
    }
   ],
   "source": [
    "data"
   ]
  },
  {
   "attachments": {},
   "cell_type": "markdown",
   "metadata": {},
   "source": [
    "<b> Xử lý custom_track = click"
   ]
  },
  {
   "cell_type": "code",
   "execution_count": 14,
   "metadata": {},
   "outputs": [],
   "source": [
    "click_data = data.filter(data.custom_track == 'click')\n",
    "click_data.createOrReplaceTempView(\"click\")"
   ]
  },
  {
   "cell_type": "code",
   "execution_count": 15,
   "metadata": {},
   "outputs": [
    {
     "name": "stdout",
     "output_type": "stream",
     "text": [
      "+--------------------+------+------------+---+-----------+--------+------------+\n",
      "|                  ts|job_id|custom_track|bid|campaign_id|group_id|publisher_id|\n",
      "+--------------------+------+------------+---+-----------+--------+------------+\n",
      "|2022-07-08 09:32:...|  98.0|       click|2.0|        4.0|    null|         1.0|\n",
      "|2022-07-26 02:46:...| 336.0|       click|1.0|       15.0|    null|         1.0|\n",
      "|2022-07-26 03:06:...| 188.0|       click|1.0|       48.0|    34.0|         1.0|\n",
      "|2022-07-24 14:12:...| 188.0|       click|1.0|       48.0|    34.0|         1.0|\n",
      "|2022-07-27 04:24:...|1534.0|       click|0.0|      222.0|    null|         1.0|\n",
      "|2022-07-08 09:55:...|  98.0|       click|2.0|        4.0|    null|         1.0|\n",
      "|2022-07-25 09:55:...|1531.0|       click|0.0|      222.0|    null|         1.0|\n",
      "|2022-07-27 04:00:...| 188.0|       click|1.0|       48.0|    34.0|         1.0|\n",
      "|2022-07-26 06:57:...| 273.0|       click|0.0|       48.0|    null|         1.0|\n",
      "|2022-07-26 06:48:...| 187.0|       click|1.0|       48.0|    34.0|         1.0|\n",
      "+--------------------+------+------------+---+-----------+--------+------------+\n",
      "only showing top 10 rows\n",
      "\n"
     ]
    }
   ],
   "source": [
    "spark.sql(\"SELECT * FROM click\").show(10)"
   ]
  },
  {
   "cell_type": "code",
   "execution_count": 25,
   "metadata": {},
   "outputs": [
    {
     "name": "stdout",
     "output_type": "stream",
     "text": [
      "+----------+----+------+-----------+--------+------------+-------+----------+-----+\n",
      "|      date|hour|job_id|campaign_id|group_id|publisher_id|bid_set|spend_time|click|\n",
      "+----------+----+------+-----------+--------+------------+-------+----------+-----+\n",
      "|2022-07-08|   4| 187.0|       48.0|    null|         1.0|    0.0|       0.0|    2|\n",
      "|2023-01-14|  21|1592.0|       10.0|    32.0|        28.0|    1.0|       1.0|    1|\n",
      "|2022-07-26|   3|1534.0|      222.0|    null|         1.0|    0.0|       0.0|   16|\n",
      "|2022-07-25|   9| 188.0|       48.0|    34.0|         1.0|    1.0|      52.0|   52|\n",
      "|2023-01-14|  21|1886.0|        1.0|    10.0|        13.0|    1.0|       1.0|    1|\n",
      "|2022-07-26|   2|1527.0|      222.0|    null|         1.0|    0.0|       0.0|   10|\n",
      "|2022-07-27|   4|1530.0|      222.0|    null|         1.0|    0.0|       0.0|   10|\n",
      "|2023-01-14|  21|1156.0|       48.0|    10.0|        10.0|    1.0|       1.0|    1|\n",
      "|2023-01-14|  21|1430.0|        1.0|    35.0|        32.0|    0.0|       0.0|    1|\n",
      "|2023-01-14|  21|1109.0|       12.0|    32.0|        23.0|    1.0|       1.0|    1|\n",
      "+----------+----+------+-----------+--------+------------+-------+----------+-----+\n",
      "only showing top 10 rows\n",
      "\n"
     ]
    }
   ],
   "source": [
    "click_tmp = spark.sql(\"\"\"\n",
    "                        SELECT \n",
    "                            DATE(ts) AS date,\n",
    "                            HOUR(ts) AS hour,\n",
    "                            job_id,\n",
    "                            campaign_id,\n",
    "                            group_id,\n",
    "                            publisher_id,\n",
    "                            ROUND(AVG(bid), 2) AS bid_set,\n",
    "                            SUM(bid) AS spend_time,\n",
    "                            COUNT(*) AS click\n",
    "                        FROM\n",
    "                            click\n",
    "                        GROUP BY\n",
    "                            date,\n",
    "                            hour,\n",
    "                            job_id,\n",
    "                            campaign_id,\n",
    "                            group_id,\n",
    "                            publisher_id\"\"\")\n",
    "click_tmp.show(10)"
   ]
  },
  {
   "attachments": {},
   "cell_type": "markdown",
   "metadata": {},
   "source": [
    "<b>Xử lý custom_track = conversion"
   ]
  },
  {
   "cell_type": "code",
   "execution_count": 17,
   "metadata": {},
   "outputs": [],
   "source": [
    "conversion_data = data.filter(data.custom_track == \"conversion\")\n",
    "conversion_data.createOrReplaceTempView(\"conversion\")"
   ]
  },
  {
   "cell_type": "code",
   "execution_count": 18,
   "metadata": {},
   "outputs": [
    {
     "name": "stdout",
     "output_type": "stream",
     "text": [
      "+-------------------+------+------------+---+-----------+--------+------------+\n",
      "|                 ts|job_id|custom_track|bid|campaign_id|group_id|publisher_id|\n",
      "+-------------------+------+------------+---+-----------+--------+------------+\n",
      "|2023-01-14 21:49:14| 247.0|  conversion|1.0|       12.0|    16.0|        20.0|\n",
      "|2023-01-14 21:53:34|1806.0|  conversion|1.0|      101.0|    10.0|        17.0|\n",
      "|2023-01-14 21:54:04|  81.0|  conversion|1.0|        1.0|    10.0|        11.0|\n",
      "|2023-01-14 21:56:05|1686.0|  conversion|0.0|        1.0|    32.0|        32.0|\n",
      "|2023-01-14 21:56:05| 125.0|  conversion|0.0|        1.0|    32.0|        29.0|\n",
      "|2023-01-14 21:55:35| 672.0|  conversion|0.0|       61.0|    11.0|        15.0|\n",
      "|2023-01-14 21:47:14| 355.0|  conversion|0.0|       61.0|    21.0|         2.0|\n",
      "|2023-01-14 21:55:04|1723.0|  conversion|0.0|       79.0|    32.0|        13.0|\n",
      "|2023-01-14 21:54:04|2009.0|  conversion|1.0|       48.0|    10.0|        31.0|\n",
      "|2023-01-14 21:47:14| 858.0|  conversion|1.0|        1.0|    32.0|        15.0|\n",
      "+-------------------+------+------------+---+-----------+--------+------------+\n",
      "only showing top 10 rows\n",
      "\n"
     ]
    }
   ],
   "source": [
    "spark.sql(\"SELECT * FROM conversion\").show(10)"
   ]
  },
  {
   "cell_type": "code",
   "execution_count": 26,
   "metadata": {},
   "outputs": [
    {
     "name": "stdout",
     "output_type": "stream",
     "text": [
      "+----------+----+------+-----------+--------+------------+-------+----------+----------+\n",
      "|      date|hour|job_id|campaign_id|group_id|publisher_id|bid_set|spend_time|conversion|\n",
      "+----------+----+------+-----------+--------+------------+-------+----------+----------+\n",
      "|2023-01-14|  21| 125.0|        1.0|    32.0|        29.0|    0.0|       0.0|         1|\n",
      "|2023-01-14|  21|1616.0|       48.0|    26.0|        31.0|    1.0|       1.0|         1|\n",
      "|2023-01-14|  21| 458.0|       48.0|    25.0|        17.0|    0.0|       0.0|         1|\n",
      "|2023-01-14|  21|1686.0|        1.0|    32.0|        32.0|    0.0|       0.0|         1|\n",
      "|2023-01-14|  21| 355.0|       61.0|    21.0|         2.0|    0.0|       0.0|         1|\n",
      "|2023-01-14|  21|2009.0|       48.0|    10.0|        31.0|    1.0|       1.0|         1|\n",
      "|2023-01-14|  21|  81.0|        1.0|    10.0|        11.0|    1.0|       1.0|         1|\n",
      "|2023-01-14|  21|1119.0|      223.0|    41.0|         3.0|    1.0|       1.0|         1|\n",
      "|2023-01-14|  21| 672.0|       61.0|    11.0|        15.0|    0.0|       0.0|         1|\n",
      "|2023-01-14|  21|1806.0|      101.0|    10.0|        17.0|    1.0|       1.0|         1|\n",
      "+----------+----+------+-----------+--------+------------+-------+----------+----------+\n",
      "only showing top 10 rows\n",
      "\n"
     ]
    }
   ],
   "source": [
    "conversion_tmp = spark.sql(\"\"\"\n",
    "                            SELECT \n",
    "                                DATE(ts) AS date,\n",
    "                                HOUR(ts) AS hour,\n",
    "                                job_id,\n",
    "                                campaign_id,\n",
    "                                group_id,\n",
    "                                publisher_id,\n",
    "                                ROUND(AVG(bid), 2) AS bid_set,\n",
    "                                SUM(bid) AS spend_time,\n",
    "                                COUNT(*) AS conversion\n",
    "                            FROM\n",
    "                                conversion\n",
    "                            GROUP BY\n",
    "                                date,\n",
    "                                hour,\n",
    "                                job_id,\n",
    "                                campaign_id,\n",
    "                                group_id,\n",
    "                                publisher_id\"\"\")\n",
    "conversion_tmp.show(10)"
   ]
  },
  {
   "attachments": {},
   "cell_type": "markdown",
   "metadata": {},
   "source": [
    "<b>Xử lý custom_track = qualified"
   ]
  },
  {
   "cell_type": "code",
   "execution_count": 20,
   "metadata": {},
   "outputs": [],
   "source": [
    "qualified_data = data.filter(data.custom_track == \"qualified\")\n",
    "qualified_data.createOrReplaceTempView(\"qualified\")"
   ]
  },
  {
   "cell_type": "code",
   "execution_count": 21,
   "metadata": {},
   "outputs": [
    {
     "name": "stdout",
     "output_type": "stream",
     "text": [
      "+-------------------+------+------------+---+-----------+--------+------------+\n",
      "|                 ts|job_id|custom_track|bid|campaign_id|group_id|publisher_id|\n",
      "+-------------------+------+------------+---+-----------+--------+------------+\n",
      "|2023-01-14 21:55:04| 357.0|   qualified|0.0|      193.0|    32.0|         9.0|\n",
      "|2023-01-14 21:56:05|1656.0|   qualified|0.0|       58.0|    17.0|        12.0|\n",
      "|2023-01-14 21:53:34| 263.0|   qualified|1.0|       59.0|    26.0|         3.0|\n",
      "|2023-01-14 21:49:14| 379.0|   qualified|1.0|       12.0|    22.0|         3.0|\n",
      "|2023-01-14 21:47:14|1218.0|   qualified|1.0|       33.0|    22.0|        12.0|\n",
      "|2023-01-14 21:47:14|1644.0|   qualified|1.0|      141.0|    10.0|        22.0|\n",
      "|2023-01-14 21:56:05|1086.0|   qualified|1.0|       48.0|    13.0|        15.0|\n",
      "|2023-01-14 21:41:07| 245.0|   qualified|0.0|        1.0|    13.0|        24.0|\n",
      "|2023-01-14 21:56:05| 782.0|   qualified|0.0|       48.0|    10.0|        17.0|\n",
      "|2023-01-14 21:53:34| 505.0|   qualified|0.0|       53.0|    11.0|         2.0|\n",
      "+-------------------+------+------------+---+-----------+--------+------------+\n",
      "only showing top 10 rows\n",
      "\n"
     ]
    }
   ],
   "source": [
    "spark.sql(\"SELECT * FROM qualified\").show(10)"
   ]
  },
  {
   "cell_type": "code",
   "execution_count": 27,
   "metadata": {},
   "outputs": [
    {
     "name": "stdout",
     "output_type": "stream",
     "text": [
      "+----------+----+------+-----------+--------+------------+-------+----------+---------+\n",
      "|      date|hour|job_id|campaign_id|group_id|publisher_id|bid_set|spend_time|qualified|\n",
      "+----------+----+------+-----------+--------+------------+-------+----------+---------+\n",
      "|2023-01-14|  21| 339.0|       12.0|    41.0|        29.0|    0.0|       0.0|        1|\n",
      "|2023-01-14|  21| 192.0|       51.0|    41.0|        15.0|    0.0|       0.0|        1|\n",
      "|2023-01-14|  21|1086.0|       48.0|    13.0|        15.0|    1.0|       1.0|        1|\n",
      "|2023-01-14|  21|1656.0|       58.0|    17.0|        12.0|    0.0|       0.0|        1|\n",
      "|2023-01-14|  21| 379.0|       12.0|    22.0|         3.0|    1.0|       1.0|        1|\n",
      "|2023-01-14|  21| 263.0|       59.0|    26.0|         3.0|    1.0|       1.0|        1|\n",
      "|2023-01-14|  21|1400.0|       79.0|    17.0|        30.0|    1.0|       1.0|        1|\n",
      "|2023-01-14|  21|1644.0|      141.0|    10.0|        22.0|    1.0|       1.0|        1|\n",
      "|2023-01-14|  21| 496.0|        1.0|    17.0|        38.0|    1.0|       1.0|        1|\n",
      "|2023-01-14|  21|1218.0|       33.0|    22.0|        12.0|    1.0|       1.0|        1|\n",
      "+----------+----+------+-----------+--------+------------+-------+----------+---------+\n",
      "only showing top 10 rows\n",
      "\n"
     ]
    }
   ],
   "source": [
    "qualified_tmp = spark.sql(\"\"\"\n",
    "                            SELECT \n",
    "                                DATE(ts) AS date,\n",
    "                                HOUR(ts) AS hour,\n",
    "                                job_id,\n",
    "                                campaign_id,\n",
    "                                group_id,\n",
    "                                publisher_id,\n",
    "                                ROUND(AVG(bid), 2) AS bid_set,\n",
    "                                SUM(bid) AS spend_time,\n",
    "                                COUNT(*) AS qualified\n",
    "                            FROM\n",
    "                                qualified\n",
    "                            GROUP BY\n",
    "                                date,\n",
    "                                hour,\n",
    "                                job_id,\n",
    "                                campaign_id,\n",
    "                                group_id,\n",
    "                                publisher_id\"\"\")\n",
    "qualified_tmp.show(10)"
   ]
  },
  {
   "attachments": {},
   "cell_type": "markdown",
   "metadata": {},
   "source": [
    "<b>Xử lý custom_track = unqualified"
   ]
  },
  {
   "cell_type": "code",
   "execution_count": 23,
   "metadata": {},
   "outputs": [],
   "source": [
    "unqualified_data = data.filter(data.custom_track == \"unqualified\")\n",
    "unqualified_data.createOrReplaceTempView(\"unqualified\")"
   ]
  },
  {
   "cell_type": "code",
   "execution_count": 24,
   "metadata": {},
   "outputs": [
    {
     "name": "stdout",
     "output_type": "stream",
     "text": [
      "+-------------------+------+------------+---+-----------+--------+------------+\n",
      "|                 ts|job_id|custom_track|bid|campaign_id|group_id|publisher_id|\n",
      "+-------------------+------+------------+---+-----------+--------+------------+\n",
      "|2023-01-14 21:47:14| 512.0| unqualified|0.0|       61.0|    35.0|        17.0|\n",
      "|2023-01-14 21:54:04|2002.0| unqualified|1.0|       15.0|    17.0|        33.0|\n",
      "|2023-01-14 21:55:04|1945.0| unqualified|1.0|       13.0|    10.0|        33.0|\n",
      "|2023-01-14 21:55:04| 212.0| unqualified|1.0|       48.0|    41.0|        22.0|\n",
      "|2023-01-14 21:56:05|1414.0| unqualified|0.0|       10.0|    10.0|        24.0|\n",
      "|2023-01-14 21:41:07| 885.0| unqualified|1.0|       13.0|    15.0|        12.0|\n",
      "|2023-01-14 21:48:14|1391.0| unqualified|0.0|        1.0|    22.0|        37.0|\n",
      "|2023-01-14 21:41:07|2051.0| unqualified|0.0|      122.0|    41.0|         9.0|\n",
      "|2023-01-14 21:47:14|  76.0| unqualified|1.0|       54.0|    10.0|        33.0|\n",
      "|2023-01-14 21:55:04| 311.0| unqualified|0.0|       53.0|    14.0|        12.0|\n",
      "+-------------------+------+------------+---+-----------+--------+------------+\n",
      "only showing top 10 rows\n",
      "\n"
     ]
    }
   ],
   "source": [
    "spark.sql(\"SELECT * FROM unqualified\").show(10)"
   ]
  },
  {
   "cell_type": "code",
   "execution_count": 28,
   "metadata": {},
   "outputs": [
    {
     "name": "stdout",
     "output_type": "stream",
     "text": [
      "+----------+----+------+-----------+--------+------------+-------+----------+-----------+\n",
      "|      date|hour|job_id|campaign_id|group_id|publisher_id|bid_set|spend_time|unqualified|\n",
      "+----------+----+------+-----------+--------+------------+-------+----------+-----------+\n",
      "|2023-01-14|  21|1688.0|       61.0|    26.0|        17.0|    1.0|       1.0|          1|\n",
      "|2023-01-14|  21|1791.0|        5.0|    10.0|        10.0|    0.0|       0.0|          1|\n",
      "|2023-01-14|  21|2002.0|       15.0|    17.0|        33.0|    1.0|       1.0|          1|\n",
      "|2023-01-14|  21|1632.0|       58.0|    10.0|        13.0|    1.0|       1.0|          1|\n",
      "|2023-01-14|  21| 760.0|       13.0|    32.0|        37.0|    0.0|       0.0|          1|\n",
      "|2023-01-14|  21| 538.0|        5.0|    31.0|        36.0|    1.0|       1.0|          1|\n",
      "|2023-01-14|  21| 885.0|       13.0|    15.0|        12.0|    1.0|       1.0|          1|\n",
      "|2023-01-14|  21|2051.0|      122.0|    41.0|         9.0|    0.0|       0.0|          1|\n",
      "|2023-01-14|  21|1130.0|      117.0|    19.0|        30.0|    0.0|       0.0|          1|\n",
      "|2023-01-14|  21|1414.0|       10.0|    10.0|        24.0|    0.0|       0.0|          1|\n",
      "+----------+----+------+-----------+--------+------------+-------+----------+-----------+\n",
      "only showing top 10 rows\n",
      "\n"
     ]
    }
   ],
   "source": [
    "unqualified_tmp = spark.sql(\"\"\"\n",
    "                            SELECT \n",
    "                                DATE(ts) AS date,\n",
    "                                HOUR(ts) AS hour,\n",
    "                                job_id,\n",
    "                                campaign_id,\n",
    "                                group_id,\n",
    "                                publisher_id,\n",
    "                                ROUND(AVG(bid), 2) AS bid_set,\n",
    "                                SUM(bid) AS spend_time,\n",
    "                                COUNT(*) AS unqualified\n",
    "                            FROM\n",
    "                                unqualified\n",
    "                            GROUP BY\n",
    "                                date,\n",
    "                                hour,\n",
    "                                job_id,\n",
    "                                campaign_id,\n",
    "                                group_id,\n",
    "                                publisher_id\"\"\")\n",
    "unqualified_tmp.show(10)"
   ]
  },
  {
   "attachments": {},
   "cell_type": "markdown",
   "metadata": {},
   "source": [
    "<b> Output mong muốn: Trong một giờ(ngày) đó có bao nhiêu click, conversion, qualified, unqualified với mỗi id tương ứng"
   ]
  },
  {
   "cell_type": "code",
   "execution_count": 29,
   "metadata": {},
   "outputs": [
    {
     "name": "stdout",
     "output_type": "stream",
     "text": [
      "+----------+----+------+-----------+--------+------------+-------+----------+-----+-------+----------+----------+-------+----------+---------+-------+----------+-----------+\n",
      "|      date|hour|job_id|campaign_id|group_id|publisher_id|bid_set|spend_time|click|bid_set|spend_time|conversion|bid_set|spend_time|qualified|bid_set|spend_time|unqualified|\n",
      "+----------+----+------+-----------+--------+------------+-------+----------+-----+-------+----------+----------+-------+----------+---------+-------+----------+-----------+\n",
      "|2023-01-14|  21| 125.0|        1.0|    32.0|        29.0|   null|      null| null|    0.0|       0.0|         1|   null|      null|     null|   null|      null|       null|\n",
      "|2023-01-14|  21| 339.0|       12.0|    41.0|        29.0|   null|      null| null|   null|      null|      null|    0.0|       0.0|        1|   null|      null|       null|\n",
      "|2022-07-08|   4| 187.0|       48.0|    null|         1.0|    0.0|       0.0|    2|   null|      null|      null|   null|      null|     null|   null|      null|       null|\n",
      "|2023-01-14|  21|1592.0|       10.0|    32.0|        28.0|    1.0|       1.0|    1|   null|      null|      null|   null|      null|     null|   null|      null|       null|\n",
      "|2022-07-26|   3|1534.0|      222.0|    null|         1.0|    0.0|       0.0|   16|   null|      null|      null|   null|      null|     null|   null|      null|       null|\n",
      "+----------+----+------+-----------+--------+------------+-------+----------+-----+-------+----------+----------+-------+----------+---------+-------+----------+-----------+\n",
      "only showing top 5 rows\n",
      "\n"
     ]
    }
   ],
   "source": [
    "final_data = click_tmp.join(conversion_tmp, on = ['date', 'hour', 'job_id', 'campaign_id', 'group_id', 'publisher_id'], how = 'full').\\\n",
    "                       join(qualified_tmp, on = ['date', 'hour', 'job_id', 'campaign_id', 'group_id', 'publisher_id'], how = 'full').\\\n",
    "                       join(unqualified_tmp,on = ['date', 'hour', 'job_id', 'campaign_id', 'group_id', 'publisher_id'], how = 'full')\n",
    "\n",
    "final_data.show(5)"
   ]
  },
  {
   "attachments": {},
   "cell_type": "markdown",
   "metadata": {},
   "source": [
    "<b> Sử dụng hàm \"coalesce\" để kết hợp nhiều cột giống nhau trong dataframe thành 1 cột, kết quả trong cột này là các giá trị khác null đầu tiên của các cột gặp phải(giảm phân vùng trong dataframe(vùng ở đây là các column cần giải quyết))"
   ]
  },
  {
   "cell_type": "code",
   "execution_count": 37,
   "metadata": {},
   "outputs": [
    {
     "name": "stdout",
     "output_type": "stream",
     "text": [
      "+----------+----+------+-----------+--------+------------+-------+----------+-----+----------+---------+-----------+\n",
      "|      date|hour|job_id|campaign_id|group_id|publisher_id|bid_set|spend_time|click|conversion|qualified|unqualified|\n",
      "+----------+----+------+-----------+--------+------------+-------+----------+-----+----------+---------+-----------+\n",
      "|2023-01-14|  21| 125.0|        1.0|    32.0|        29.0|    0.0|       0.0| null|         1|     null|       null|\n",
      "|2023-01-14|  21| 339.0|       12.0|    41.0|        29.0|    0.0|       0.0| null|      null|        1|       null|\n",
      "|2022-07-08|   4| 187.0|       48.0|    null|         1.0|    0.0|       0.0|    2|      null|     null|       null|\n",
      "|2023-01-14|  21|1592.0|       10.0|    32.0|        28.0|    1.0|       1.0|    1|      null|     null|       null|\n",
      "|2022-07-26|   3|1534.0|      222.0|    null|         1.0|    0.0|       0.0|   16|      null|     null|       null|\n",
      "|2022-07-25|   9| 188.0|       48.0|    34.0|         1.0|    1.0|      52.0|   52|      null|     null|       null|\n",
      "|2023-01-14|  21|1886.0|        1.0|    10.0|        13.0|    1.0|       1.0|    1|      null|     null|       null|\n",
      "|2023-01-14|  21|1688.0|       61.0|    26.0|        17.0|    1.0|       1.0| null|      null|     null|          1|\n",
      "|2022-07-26|   2|1527.0|      222.0|    null|         1.0|    0.0|       0.0|   10|      null|     null|       null|\n",
      "|2022-07-27|   4|1530.0|      222.0|    null|         1.0|    0.0|       0.0|   10|      null|     null|       null|\n",
      "|2023-01-14|  21|1156.0|       48.0|    10.0|        10.0|    1.0|       1.0|    1|      null|     null|       null|\n",
      "|2023-01-14|  21|1791.0|        5.0|    10.0|        10.0|    0.0|       0.0| null|      null|     null|          1|\n",
      "|2023-01-14|  21|1430.0|        1.0|    35.0|        32.0|    0.0|       0.0|    1|      null|     null|       null|\n",
      "|2023-01-14|  21|1109.0|       12.0|    32.0|        23.0|    1.0|       1.0|    1|      null|     null|       null|\n",
      "|2023-01-14|  21| 192.0|       51.0|    41.0|        15.0|    0.0|       0.0| null|      null|        1|       null|\n",
      "|2023-01-14|  21| 458.0|       48.0|    25.0|        17.0|    0.0|       0.0| null|         1|     null|       null|\n",
      "|2023-01-14|  21|1539.0|       61.0|    41.0|        35.0|    0.0|       0.0|    1|      null|     null|       null|\n",
      "|2023-01-14|  21|1616.0|       48.0|    26.0|        31.0|    1.0|       1.0| null|         1|     null|       null|\n",
      "|2022-07-27|   4| 336.0|       15.0|    null|         1.0|    1.0|      14.0|   14|      null|     null|       null|\n",
      "|2023-01-14|  21|2002.0|       15.0|    17.0|        33.0|    1.0|       1.0| null|      null|     null|          1|\n",
      "+----------+----+------+-----------+--------+------------+-------+----------+-----+----------+---------+-----------+\n",
      "only showing top 20 rows\n",
      "\n"
     ]
    }
   ],
   "source": [
    "output_ETL = final_data.select(\n",
    "    'date',\n",
    "    'hour',\n",
    "    'job_id',\n",
    "    'campaign_id',\n",
    "    'group_id',\n",
    "    'publisher_id',\n",
    "    coalesce(click_tmp['bid_set'], conversion_tmp['bid_set'], qualified_tmp['bid_set'], unqualified_tmp['bid_set']).alias('bid_set'),\n",
    "    coalesce(click_tmp['spend_time'], conversion_tmp['spend_time'], qualified_tmp['spend_time'], unqualified_tmp['spend_time']).alias('spend_time'),\n",
    "    'click',\n",
    "    'conversion',\n",
    "    'qualified',\n",
    "    'unqualified'\n",
    "    )\n",
    "\n",
    "output_ETL.show()"
   ]
  },
  {
   "attachments": {},
   "cell_type": "markdown",
   "metadata": {},
   "source": [
    "<b> merge company_id của table company vào output "
   ]
  },
  {
   "cell_type": "code",
   "execution_count": 38,
   "metadata": {},
   "outputs": [],
   "source": [
    "df = spark.read \\\n",
    "    .format(\"jdbc\") \\\n",
    "    .option(\"driver\",\"com.mysql.cj.jdbc.Driver\") \\\n",
    "    .option(\"url\", \"jdbc:mysql://localhost:3306/data_engineering\") \\\n",
    "    .option(\"dbtable\", \"company\") \\\n",
    "    .option(\"user\", \"root\") \\\n",
    "    .option(\"password\", \"1\") \\\n",
    "    .load()"
   ]
  },
  {
   "cell_type": "code",
   "execution_count": 53,
   "metadata": {},
   "outputs": [
    {
     "name": "stdout",
     "output_type": "stream",
     "text": [
      "+----------+------------+\n",
      "|id_company|publisher_id|\n",
      "+----------+------------+\n",
      "|         1|        null|\n",
      "|         2|        null|\n",
      "|         3|        null|\n",
      "|         4|        null|\n",
      "|         8|        null|\n",
      "|        10|        null|\n",
      "|        11|        null|\n",
      "|        12|        null|\n",
      "|        13|        null|\n",
      "|        14|        null|\n",
      "+----------+------------+\n",
      "only showing top 10 rows\n",
      "\n"
     ]
    }
   ],
   "source": [
    "id_company = df.select(df.id.alias('id_company'),\"publisher_id\")\n",
    "id_company.show(10)"
   ]
  },
  {
   "cell_type": "code",
   "execution_count": 54,
   "metadata": {},
   "outputs": [
    {
     "name": "stdout",
     "output_type": "stream",
     "text": [
      "+------------+----------+----+------+-----------+--------+-------+----------+-----+----------+---------+-----------+----------+\n",
      "|publisher_id|      date|hour|job_id|campaign_id|group_id|bid_set|spend_time|click|conversion|qualified|unqualified|id_company|\n",
      "+------------+----------+----+------+-----------+--------+-------+----------+-----+----------+---------+-----------+----------+\n",
      "|        29.0|2023-01-14|  21| 125.0|        1.0|    32.0|    0.0|       0.0| null|         1|     null|       null|      null|\n",
      "|        29.0|2023-01-14|  21| 339.0|       12.0|    41.0|    0.0|       0.0| null|      null|        1|       null|      null|\n",
      "|        29.0|2023-01-14|  21| 737.0|       12.0|    19.0|    0.0|       0.0|    1|      null|     null|       null|      null|\n",
      "|        null|      null|null|  null|       null|    null|   null|      null| null|      null|     null|       null|         1|\n",
      "|        null|      null|null|  null|       null|    null|   null|      null| null|      null|     null|       null|         2|\n",
      "|        null|      null|null|  null|       null|    null|   null|      null| null|      null|     null|       null|         3|\n",
      "|        null|      null|null|  null|       null|    null|   null|      null| null|      null|     null|       null|         4|\n",
      "|        null|      null|null|  null|       null|    null|   null|      null| null|      null|     null|       null|         8|\n",
      "|        null|      null|null|  null|       null|    null|   null|      null| null|      null|     null|       null|        10|\n",
      "|        null|      null|null|  null|       null|    null|   null|      null| null|      null|     null|       null|        11|\n",
      "|        null|      null|null|  null|       null|    null|   null|      null| null|      null|     null|       null|        12|\n",
      "|        null|      null|null|  null|       null|    null|   null|      null| null|      null|     null|       null|        13|\n",
      "|        null|      null|null|  null|       null|    null|   null|      null| null|      null|     null|       null|        14|\n",
      "|        null|      null|null|  null|       null|    null|   null|      null| null|      null|     null|       null|        15|\n",
      "|        null|      null|null|  null|       null|    null|   null|      null| null|      null|     null|       null|        16|\n",
      "|        null|      null|null|  null|       null|    null|   null|      null| null|      null|     null|       null|        17|\n",
      "|        null|      null|null|  null|       null|    null|   null|      null| null|      null|     null|       null|        19|\n",
      "|        null|      null|null|  null|       null|    null|   null|      null| null|      null|     null|       null|        20|\n",
      "|        null|      null|null|  null|       null|    null|   null|      null| null|      null|     null|       null|        21|\n",
      "|        null|      null|null|  null|       null|    null|   null|      null| null|      null|     null|       null|        23|\n",
      "+------------+----------+----+------+-----------+--------+-------+----------+-----+----------+---------+-----------+----------+\n",
      "only showing top 20 rows\n",
      "\n"
     ]
    }
   ],
   "source": [
    "output_ETL_final = output_ETL.join(id_company, on = \"publisher_id\", how = \"full\")\n",
    "output_ETL_final.show()"
   ]
  },
  {
   "cell_type": "code",
   "execution_count": 55,
   "metadata": {},
   "outputs": [
    {
     "name": "stdout",
     "output_type": "stream",
     "text": [
      "root\n",
      " |-- publisher_id: double (nullable = true)\n",
      " |-- date: date (nullable = true)\n",
      " |-- hour: integer (nullable = true)\n",
      " |-- job_id: double (nullable = true)\n",
      " |-- campaign_id: double (nullable = true)\n",
      " |-- group_id: double (nullable = true)\n",
      " |-- bid_set: double (nullable = true)\n",
      " |-- spend_time: double (nullable = true)\n",
      " |-- click: long (nullable = true)\n",
      " |-- conversion: long (nullable = true)\n",
      " |-- qualified: long (nullable = true)\n",
      " |-- unqualified: long (nullable = true)\n",
      " |-- id_company: integer (nullable = true)\n",
      "\n"
     ]
    }
   ],
   "source": [
    "output_ETL_final.printSchema()"
   ]
  },
  {
   "attachments": {},
   "cell_type": "markdown",
   "metadata": {},
   "source": [
    "<b> Load dữ liệu vào bảng event trong Data warehouse"
   ]
  },
  {
   "cell_type": "code",
   "execution_count": 56,
   "metadata": {},
   "outputs": [],
   "source": [
    "output_ETL_final.write.format('jdbc').option('url','jdbc:mysql://localhost:3306/data_engineering')\\\n",
    "                                     .option('driver','com.mysql.cj.jdbc.Driver')\\\n",
    "                                     .option('dbtable','event_DW')\\\n",
    "                                     .option('user','root')\\\n",
    "                                     .option('password','1').mode('append').save()"
   ]
  },
  {
   "attachments": {},
   "cell_type": "markdown",
   "metadata": {},
   "source": [
    "Check table"
   ]
  },
  {
   "cell_type": "code",
   "execution_count": 57,
   "metadata": {},
   "outputs": [],
   "source": [
    "event_DW_df = spark.read \\\n",
    "                .format(\"jdbc\") \\\n",
    "                .option(\"driver\",\"com.mysql.cj.jdbc.Driver\") \\\n",
    "                .option(\"url\", \"jdbc:mysql://localhost:3306/data_engineering\") \\\n",
    "                .option(\"dbtable\", \"event_DW\") \\\n",
    "                .option(\"user\", \"root\") \\\n",
    "                .option(\"password\", \"1\") \\\n",
    "                .load()"
   ]
  },
  {
   "cell_type": "code",
   "execution_count": 61,
   "metadata": {},
   "outputs": [
    {
     "name": "stdout",
     "output_type": "stream",
     "text": [
      "+------------+----------+----+------+-----------+--------+-------+----------+-----+----------+---------+-----------+----------+\n",
      "|publisher_id|      date|hour|job_id|campaign_id|group_id|bid_set|spend_time|click|conversion|qualified|unqualified|id_company|\n",
      "+------------+----------+----+------+-----------+--------+-------+----------+-----+----------+---------+-----------+----------+\n",
      "|         4.0|      null|null|  null|       null|    null|   null|      null| null|      null|     null|       null|        58|\n",
      "|        22.0|2023-01-14|  21|1644.0|      141.0|    10.0|    1.0|       1.0| null|      null|        1|       null|        70|\n",
      "|        22.0|2023-01-14|  21|1822.0|       55.0|    27.0|    0.0|       0.0| null|         1|     null|       null|        70|\n",
      "|        22.0|2023-01-14|  21|2026.0|       57.0|    37.0|    0.0|       0.0|    1|      null|     null|       null|        70|\n",
      "|        22.0|2023-01-14|  21| 212.0|       48.0|    41.0|    1.0|       1.0| null|      null|     null|          1|        70|\n",
      "|        17.0|2023-01-14|  21|1688.0|       61.0|    26.0|    1.0|       1.0| null|      null|     null|          1|        63|\n",
      "|        17.0|2023-01-14|  21| 458.0|       48.0|    25.0|    0.0|       0.0| null|         1|     null|       null|        63|\n",
      "|        17.0|2023-01-14|  21| 782.0|       48.0|    10.0|    0.0|       0.0| null|      null|        1|       null|        63|\n",
      "|        17.0|2023-01-14|  21|1806.0|      101.0|    10.0|    1.0|       1.0| null|         1|     null|       null|        63|\n",
      "|        17.0|2023-01-14|  21|1197.0|       57.0|    41.0|    1.0|       1.0| null|      null|     null|          1|        63|\n",
      "|        17.0|2023-01-14|  21| 512.0|       61.0|    35.0|    0.0|       0.0| null|      null|     null|          1|        63|\n",
      "|         1.0|2022-07-08|   4| 187.0|       48.0|    null|    0.0|       0.0|    2|      null|     null|       null|        59|\n",
      "|         1.0|2022-07-26|   3|1534.0|      222.0|    null|    0.0|       0.0|   16|      null|     null|       null|        59|\n",
      "|         1.0|2022-07-25|   9| 188.0|       48.0|    34.0|    1.0|      52.0|   52|      null|     null|       null|        59|\n",
      "|         1.0|2022-07-26|   2|1527.0|      222.0|    null|    0.0|       0.0|   10|      null|     null|       null|        59|\n",
      "|         1.0|2022-07-27|   4|1530.0|      222.0|    null|    0.0|       0.0|   10|      null|     null|       null|        59|\n",
      "|         1.0|2022-07-27|   4| 336.0|       15.0|    null|    1.0|      14.0|   14|      null|     null|       null|        59|\n",
      "|         1.0|2022-07-26|   6| 273.0|       48.0|    null|    0.0|       0.0|   11|      null|     null|       null|        59|\n",
      "|         1.0|2022-07-26|   7|1534.0|      222.0|    null|    0.0|       0.0|    5|      null|     null|       null|        59|\n",
      "|         1.0|2022-07-25|  10|1530.0|      222.0|    null|    0.0|       0.0|    8|      null|     null|       null|        59|\n",
      "+------------+----------+----+------+-----------+--------+-------+----------+-----+----------+---------+-----------+----------+\n",
      "only showing top 20 rows\n",
      "\n"
     ]
    }
   ],
   "source": [
    "event_DW_df.filter(event_DW_df.publisher_id.isNotNull() & event_DW_df.id_company.isNotNull()).show()"
   ]
  }
 ],
 "metadata": {
  "kernelspec": {
   "display_name": "Python 3",
   "language": "python",
   "name": "python3"
  },
  "language_info": {
   "codemirror_mode": {
    "name": "ipython",
    "version": 3
   },
   "file_extension": ".py",
   "mimetype": "text/x-python",
   "name": "python",
   "nbconvert_exporter": "python",
   "pygments_lexer": "ipython3",
   "version": "3.10.10"
  },
  "orig_nbformat": 4
 },
 "nbformat": 4,
 "nbformat_minor": 2
}
