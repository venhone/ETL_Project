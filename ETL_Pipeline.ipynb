{
 "cells": [
  {
   "cell_type": "code",
   "execution_count": 1,
   "metadata": {},
   "outputs": [],
   "source": [
    "from pyspark.sql import SparkSession\n",
    "from pyspark.sql.functions import coalesce,col"
   ]
  },
  {
   "cell_type": "code",
   "execution_count": 2,
   "metadata": {},
   "outputs": [],
   "source": [
    "spark = SparkSession.builder.config('spark.jars.packages','com.datastax.spark:spark-cassandra-connector_2.12:3.1.0').getOrCreate()"
   ]
  },
  {
   "attachments": {},
   "cell_type": "markdown",
   "metadata": {},
   "source": [
    "<b> Đọc data từ Cassandra</b>"
   ]
  },
  {
   "cell_type": "code",
   "execution_count": 3,
   "metadata": {},
   "outputs": [],
   "source": [
    "data = spark.read.format(\"org.apache.spark.sql.cassandra\").options(table = 'tracking',keyspace = 'study_de').load()"
   ]
  },
  {
   "cell_type": "code",
   "execution_count": 4,
   "metadata": {},
   "outputs": [
    {
     "name": "stdout",
     "output_type": "stream",
     "text": [
      "+--------------------+----+----------+-----------+----+------------+-----+--------------------+---------------+--------------------+---+--------+----+------+----+------------+----+--------+--------------------+------+--------------------+-------------------+------------+-----------+----------+----------+--------+---+--------+\n",
      "|         create_time| bid|        bn|campaign_id|  cd|custom_track|   de|                  dl|             dt|                  ed| ev|group_id|  id|job_id|  md|publisher_id|  rl|      sr|                  ts|    tz|                  ua|                uid|utm_campaign|utm_content|utm_medium|utm_source|utm_term|  v|      vp|\n",
      "+--------------------+----+----------+-----------+----+------------+-----+--------------------+---------------+--------------------+---+--------+----+------+----+------------+----+--------+--------------------+------+--------------------+-------------------+------------+-----------+----------+----------+--------+---+--------+\n",
      "|1dcc9e80-0cb0-11e...| 0.0|Chrome 103|      222.0|24.0|       click|UTF-8|http://fe.dev.got...|CandidatePortal|{\"customEvent\":\"c...|2.0|    null|null|1527.0|true|         1.0|null|1366x768|2022-07-26 06:56:...|-420.0|Mozilla/5.0 (Wind...|1-kntupfok-l61tduvk|        null|       null|      null|      null|    null|1.0|1366x625|\n",
      "|4fa69ff0-0d78-11e...|null|Chrome 103|       null|24.0|        null|UTF-8|http://localhost:...|CandidatePortal|                null|1.0|    null|null|  null|true|        null|null|1536x864|2022-07-27 06:49:...|-420.0|Mozilla/5.0 (Wind...|1-go8olnux-l4pv9epe|        null|       null|      null|      null|    null|1.0|1536x722|\n",
      "|ae918d10-0b5a-11e...| 1.0|Chrome 103|       48.0|24.0|       click|UTF-8|http://fe.dev.got...|CandidatePortal|{\"customEvent\":\"c...|2.0|    34.0|null| 188.0|true|         1.0|null|1366x768|2022-07-24 14:12:...|-420.0|Mozilla/5.0 (Wind...|1-zof0i457-l5ze6uuv|        null|       null|      null|      null|    null|1.0|1366x625|\n",
      "|49321280-fea5-11e...|null|Chrome 103|       null|24.0|       click|UTF-8|http://150.230.18...|CandidatePortal|{\"customEvent\":\"c...|2.0|    null|null|  null|true|        null|null|1366x768|2022-07-08 10:04:...|-420.0|Mozilla/5.0 (Wind...|1-c5v39kv8-l5c94dee|        null|       null|      null|      null|    null|1.0|1366x625|\n",
      "|9d5ce270-fea2-11e...| 2.0|Chrome 103|        4.0|24.0|        null|UTF-8|http://150.230.18...|CandidatePortal|                null|1.0|    null|null|  98.0|true|         1.0|null|1366x768|2022-07-08 09:44:...|-420.0|Mozilla/5.0 (Wind...|1-c5v39kv8-l5c94dee|        null|       null|      null|      null|    null|1.0|1366x625|\n",
      "+--------------------+----+----------+-----------+----+------------+-----+--------------------+---------------+--------------------+---+--------+----+------+----+------------+----+--------+--------------------+------+--------------------+-------------------+------------+-----------+----------+----------+--------+---+--------+\n",
      "only showing top 5 rows\n",
      "\n"
     ]
    }
   ],
   "source": [
    "data.show(5)"
   ]
  },
  {
   "attachments": {},
   "cell_type": "markdown",
   "metadata": {},
   "source": [
    "<b> Đọc Data từ MySQL"
   ]
  },
  {
   "cell_type": "code",
   "execution_count": 5,
   "metadata": {},
   "outputs": [],
   "source": [
    "df = spark.read \\\n",
    "    .format(\"jdbc\") \\\n",
    "    .option(\"driver\",\"com.mysql.cj.jdbc.Driver\") \\\n",
    "    .option(\"url\", \"jdbc:mysql://localhost:3306/data_engineering\") \\\n",
    "    .option(\"dbtable\", \"events\") \\\n",
    "    .option(\"user\", \"root\") \\\n",
    "    .option(\"password\", \"1\") \\\n",
    "    .load()"
   ]
  },
  {
   "cell_type": "code",
   "execution_count": 6,
   "metadata": {},
   "outputs": [
    {
     "name": "stdout",
     "output_type": "stream",
     "text": [
      "+----+------+----------+-----+------------------------+---------------------+----------+----------+--------+-----------+------------+-------+------+-----------+----------+---------+\n",
      "|  id|job_id|     dates|hours|disqualified_application|qualified_application|conversion|company_id|group_id|campaign_id|publisher_id|bid_set|clicks|impressions|spend_hour|  sources|\n",
      "+----+------+----------+-----+------------------------+---------------------+----------+----------+--------+-----------+------------+-------+------+-----------+----------+---------+\n",
      "|2089|    98|2022-07-08|    9|                       1|                    0|         1|         1|    null|          4|           1|    2.0|   108|       null|     216.0|Cassandra|\n",
      "|2090|    98|2022-07-13|   15|                       1|                    0|         1|         1|    null|          4|           1|    2.0|     1|       null|       2.0|Cassandra|\n",
      "|2091|   187|2022-07-08|    4|                       1|                    0|         1|        33|    null|         48|           1|    0.0|     2|       null|       0.0|Cassandra|\n",
      "|2092|   187|2022-07-08|    6|                       1|                    0|         1|        33|    null|         48|           1|    1.5|     6|       null|       9.0|Cassandra|\n",
      "|2093|   258|2022-07-08|    9|                       1|                    0|         1|        33|    null|         93|           3|    2.0|     1|       null|       2.0|Cassandra|\n",
      "+----+------+----------+-----+------------------------+---------------------+----------+----------+--------+-----------+------------+-------+------+-----------+----------+---------+\n",
      "only showing top 5 rows\n",
      "\n"
     ]
    }
   ],
   "source": [
    "df.show(5)"
   ]
  },
  {
   "cell_type": "code",
   "execution_count": 7,
   "metadata": {},
   "outputs": [
    {
     "name": "stdout",
     "output_type": "stream",
     "text": [
      "root\n",
      " |-- id: integer (nullable = true)\n",
      " |-- job_id: integer (nullable = true)\n",
      " |-- dates: date (nullable = true)\n",
      " |-- hours: integer (nullable = true)\n",
      " |-- disqualified_application: integer (nullable = true)\n",
      " |-- qualified_application: integer (nullable = true)\n",
      " |-- conversion: integer (nullable = true)\n",
      " |-- company_id: integer (nullable = true)\n",
      " |-- group_id: integer (nullable = true)\n",
      " |-- campaign_id: integer (nullable = true)\n",
      " |-- publisher_id: integer (nullable = true)\n",
      " |-- bid_set: double (nullable = true)\n",
      " |-- clicks: integer (nullable = true)\n",
      " |-- impressions: string (nullable = true)\n",
      " |-- spend_hour: double (nullable = true)\n",
      " |-- sources: string (nullable = true)\n",
      "\n"
     ]
    }
   ],
   "source": [
    "df.printSchema()"
   ]
  },
  {
   "attachments": {},
   "cell_type": "markdown",
   "metadata": {},
   "source": [
    "<b> Load dữ liệu vào bảng Test trong MySQL"
   ]
  },
  {
   "cell_type": "code",
   "execution_count": 9,
   "metadata": {},
   "outputs": [],
   "source": [
    "df.write.format('jdbc').option('url','jdbc:mysql://localhost:3306/data_engineering')\\\n",
    "    .option('driver','com.mysql.cj.jdbc.Driver')\\\n",
    "    .option('dbtable','Test')\\\n",
    "    .option('user','root')\\\n",
    "    .option('password','1').mode('append').save()"
   ]
  },
  {
   "cell_type": "code",
   "execution_count": 8,
   "metadata": {},
   "outputs": [],
   "source": [
    "data = data.select('ts','job_id','custom_track','bid','campaign_id','group_id','publisher_id')\n",
    "data = data.filter(data.job_id.isNotNull())"
   ]
  },
  {
   "cell_type": "code",
   "execution_count": 9,
   "metadata": {},
   "outputs": [
    {
     "name": "stdout",
     "output_type": "stream",
     "text": [
      "+--------------------+------+------------+---+-----------+--------+------------+\n",
      "|                  ts|job_id|custom_track|bid|campaign_id|group_id|publisher_id|\n",
      "+--------------------+------+------------+---+-----------+--------+------------+\n",
      "|2022-07-25 09:24:...| 188.0|        null|1.0|       48.0|    34.0|         1.0|\n",
      "|2022-07-24 14:08:...| 188.0|       click|1.0|       48.0|    34.0|         1.0|\n",
      "|2022-07-25 09:51:...|1532.0|        null|0.0|      222.0|    null|         1.0|\n",
      "| 2023-01-14 21:55:04| 311.0| unqualified|0.0|       53.0|    14.0|        12.0|\n",
      "|2022-07-27 04:15:...|1530.0|        null|0.0|      222.0|    null|         1.0|\n",
      "|2022-07-26 06:47:...| 258.0|       click|1.0|       93.0|    null|         1.0|\n",
      "|2022-07-26 06:56:...| 273.0|       click|0.0|       48.0|    null|         1.0|\n",
      "|2022-07-24 14:05:...| 188.0|        null|1.0|       48.0|    34.0|         1.0|\n",
      "|2022-07-26 02:50:...| 273.0|        null|0.0|       48.0|    null|         1.0|\n",
      "|2022-07-08 09:44:...|  98.0|       click|2.0|        4.0|    null|         1.0|\n",
      "|2022-07-08 09:44:...|  98.0|        null|2.0|        4.0|    null|         1.0|\n",
      "|2022-07-24 14:11:...| 188.0|       click|1.0|       48.0|    34.0|         1.0|\n",
      "|2022-07-26 06:55:...|1103.0|       click|0.0|      151.0|    28.0|         1.0|\n",
      "|2022-07-27 04:16:...|1530.0|       click|0.0|      222.0|    null|         1.0|\n",
      "|2022-07-25 09:36:...| 188.0|        null|1.0|       48.0|    34.0|         1.0|\n",
      "|2022-07-24 10:07:...| 188.0|        null|1.0|       48.0|    34.0|         1.0|\n",
      "| 2023-01-14 21:55:35|1871.0|  conversion|0.0|      117.0|    32.0|        12.0|\n",
      "|2022-07-27 04:20:...|1532.0|        null|0.0|      222.0|    null|         1.0|\n",
      "|2022-07-25 09:37:...| 188.0|        null|1.0|       48.0|    34.0|         1.0|\n",
      "|2022-07-25 09:38:...| 188.0|        null|1.0|       48.0|    34.0|         1.0|\n",
      "+--------------------+------+------------+---+-----------+--------+------------+\n",
      "only showing top 20 rows\n",
      "\n"
     ]
    }
   ],
   "source": [
    "data.show()"
   ]
  },
  {
   "cell_type": "code",
   "execution_count": 10,
   "metadata": {},
   "outputs": [
    {
     "name": "stdout",
     "output_type": "stream",
     "text": [
      "+------------+\n",
      "|custom_track|\n",
      "+------------+\n",
      "|  conversion|\n",
      "|        null|\n",
      "|       click|\n",
      "| unqualified|\n",
      "|       alive|\n",
      "|   qualified|\n",
      "+------------+\n",
      "\n"
     ]
    }
   ],
   "source": [
    "data.select(\"custom_track\").distinct().show()"
   ]
  },
  {
   "cell_type": "code",
   "execution_count": 13,
   "metadata": {},
   "outputs": [
    {
     "data": {
      "text/plain": [
       "DataFrame[ts: string, job_id: double, custom_track: string, bid: double, campaign_id: double, group_id: double, publisher_id: double]"
      ]
     },
     "execution_count": 13,
     "metadata": {},
     "output_type": "execute_result"
    }
   ],
   "source": [
    "data"
   ]
  },
  {
   "attachments": {},
   "cell_type": "markdown",
   "metadata": {},
   "source": [
    "<b> Xử lý custom_track = click"
   ]
  },
  {
   "cell_type": "code",
   "execution_count": 11,
   "metadata": {},
   "outputs": [],
   "source": [
    "click_data = data.filter(data.custom_track == 'click')\n",
    "click_data.createOrReplaceTempView(\"click\")"
   ]
  },
  {
   "cell_type": "code",
   "execution_count": 12,
   "metadata": {},
   "outputs": [
    {
     "name": "stdout",
     "output_type": "stream",
     "text": [
      "+--------------------+------+------------+---+-----------+--------+------------+\n",
      "|                  ts|job_id|custom_track|bid|campaign_id|group_id|publisher_id|\n",
      "+--------------------+------+------------+---+-----------+--------+------------+\n",
      "|2022-07-24 14:08:...| 188.0|       click|1.0|       48.0|    34.0|         1.0|\n",
      "|2022-07-27 03:59:...| 188.0|       click|1.0|       48.0|    34.0|         1.0|\n",
      "|2022-07-26 02:44:...| 440.0|       click|7.0|        1.0|    null|         1.0|\n",
      "|2022-07-25 10:01:...|1527.0|       click|0.0|      222.0|    null|         1.0|\n",
      "|2022-07-26 06:47:...| 258.0|       click|1.0|       93.0|    null|         1.0|\n",
      "|2022-07-08 09:34:...|  98.0|       click|2.0|        4.0|    null|         1.0|\n",
      "|2022-07-26 06:46:...| 258.0|       click|1.0|       93.0|    null|         1.0|\n",
      "|2022-07-27 04:13:...|1529.0|       click|0.0|      222.0|    null|         1.0|\n",
      "|2022-07-27 04:21:...|1532.0|       click|0.0|      222.0|    null|         1.0|\n",
      "|2022-07-25 10:02:...|1527.0|       click|0.0|      222.0|    null|         1.0|\n",
      "+--------------------+------+------------+---+-----------+--------+------------+\n",
      "only showing top 10 rows\n",
      "\n"
     ]
    }
   ],
   "source": [
    "spark.sql(\"SELECT * FROM click\").show(10)"
   ]
  },
  {
   "cell_type": "code",
   "execution_count": 13,
   "metadata": {},
   "outputs": [
    {
     "name": "stdout",
     "output_type": "stream",
     "text": [
      "+----------+----+------+-----------+--------+------------+-------+----------+-----+\n",
      "|      date|hour|job_id|campaign_id|group_id|publisher_id|bid_set|spend_time|click|\n",
      "+----------+----+------+-----------+--------+------------+-------+----------+-----+\n",
      "|2022-07-08|   4| 187.0|       48.0|    null|         1.0|    0.0|       0.0|    2|\n",
      "|2023-01-14|  21|1592.0|       10.0|    32.0|        28.0|    1.0|       1.0|    1|\n",
      "|2022-07-26|   3|1534.0|      222.0|    null|         1.0|    0.0|       0.0|   16|\n",
      "|2022-07-25|   9| 188.0|       48.0|    34.0|         1.0|    1.0|      52.0|   52|\n",
      "|2023-01-14|  21|1886.0|        1.0|    10.0|        13.0|    1.0|       1.0|    1|\n",
      "|2022-07-26|   2|1527.0|      222.0|    null|         1.0|    0.0|       0.0|   10|\n",
      "|2022-07-27|   4|1530.0|      222.0|    null|         1.0|    0.0|       0.0|   10|\n",
      "|2023-01-14|  21|1156.0|       48.0|    10.0|        10.0|    1.0|       1.0|    1|\n",
      "|2023-01-14|  21|1430.0|        1.0|    35.0|        32.0|    0.0|       0.0|    1|\n",
      "|2023-01-14|  21|1109.0|       12.0|    32.0|        23.0|    1.0|       1.0|    1|\n",
      "+----------+----+------+-----------+--------+------------+-------+----------+-----+\n",
      "only showing top 10 rows\n",
      "\n"
     ]
    }
   ],
   "source": [
    "click_tmp = spark.sql(\"\"\"\n",
    "                        SELECT \n",
    "                            DATE(ts) AS date,\n",
    "                            HOUR(ts) AS hour,\n",
    "                            job_id,\n",
    "                            campaign_id,\n",
    "                            group_id,\n",
    "                            publisher_id,\n",
    "                            ROUND(AVG(bid), 2) AS bid_set,\n",
    "                            SUM(bid) AS spend_time,\n",
    "                            COUNT(*) AS click\n",
    "                        FROM\n",
    "                            click\n",
    "                        GROUP BY\n",
    "                            date,\n",
    "                            hour,\n",
    "                            job_id,\n",
    "                            campaign_id,\n",
    "                            group_id,\n",
    "                            publisher_id\"\"\")\n",
    "click_tmp.show(10)"
   ]
  },
  {
   "attachments": {},
   "cell_type": "markdown",
   "metadata": {},
   "source": [
    "<b>Xử lý custom_track = conversion"
   ]
  },
  {
   "cell_type": "code",
   "execution_count": 14,
   "metadata": {},
   "outputs": [],
   "source": [
    "conversion_data = data.filter(data.custom_track == \"conversion\")\n",
    "conversion_data.createOrReplaceTempView(\"conversion\")"
   ]
  },
  {
   "cell_type": "code",
   "execution_count": 15,
   "metadata": {},
   "outputs": [
    {
     "name": "stdout",
     "output_type": "stream",
     "text": [
      "+-------------------+------+------------+---+-----------+--------+------------+\n",
      "|                 ts|job_id|custom_track|bid|campaign_id|group_id|publisher_id|\n",
      "+-------------------+------+------------+---+-----------+--------+------------+\n",
      "|2023-01-14 21:49:14| 247.0|  conversion|1.0|       12.0|    16.0|        20.0|\n",
      "|2023-01-14 21:53:34|1806.0|  conversion|1.0|      101.0|    10.0|        17.0|\n",
      "|2023-01-14 21:54:04|  81.0|  conversion|1.0|        1.0|    10.0|        11.0|\n",
      "|2023-01-14 21:47:14| 355.0|  conversion|0.0|       61.0|    21.0|         2.0|\n",
      "|2023-01-14 21:55:04|1723.0|  conversion|0.0|       79.0|    32.0|        13.0|\n",
      "|2023-01-14 21:54:04|2009.0|  conversion|1.0|       48.0|    10.0|        31.0|\n",
      "|2023-01-14 21:56:05| 125.0|  conversion|0.0|        1.0|    32.0|        29.0|\n",
      "|2023-01-14 21:55:35| 672.0|  conversion|0.0|       61.0|    11.0|        15.0|\n",
      "|2023-01-14 21:47:14| 858.0|  conversion|1.0|        1.0|    32.0|        15.0|\n",
      "|2023-01-14 21:56:05|1686.0|  conversion|0.0|        1.0|    32.0|        32.0|\n",
      "+-------------------+------+------------+---+-----------+--------+------------+\n",
      "only showing top 10 rows\n",
      "\n"
     ]
    }
   ],
   "source": [
    "spark.sql(\"SELECT * FROM conversion\").show(10)"
   ]
  },
  {
   "cell_type": "code",
   "execution_count": 16,
   "metadata": {},
   "outputs": [
    {
     "name": "stdout",
     "output_type": "stream",
     "text": [
      "+----------+----+------+-----------+--------+------------+----------+\n",
      "|      date|hour|job_id|campaign_id|group_id|publisher_id|conversion|\n",
      "+----------+----+------+-----------+--------+------------+----------+\n",
      "|2023-01-14|  21| 125.0|        1.0|    32.0|        29.0|         1|\n",
      "|2023-01-14|  21|1616.0|       48.0|    26.0|        31.0|         1|\n",
      "|2023-01-14|  21| 458.0|       48.0|    25.0|        17.0|         1|\n",
      "|2023-01-14|  21|1686.0|        1.0|    32.0|        32.0|         1|\n",
      "|2023-01-14|  21| 355.0|       61.0|    21.0|         2.0|         1|\n",
      "|2023-01-14|  21|2009.0|       48.0|    10.0|        31.0|         1|\n",
      "|2023-01-14|  21|  81.0|        1.0|    10.0|        11.0|         1|\n",
      "|2023-01-14|  21|1119.0|      223.0|    41.0|         3.0|         1|\n",
      "|2023-01-14|  21| 672.0|       61.0|    11.0|        15.0|         1|\n",
      "|2023-01-14|  21|1806.0|      101.0|    10.0|        17.0|         1|\n",
      "+----------+----+------+-----------+--------+------------+----------+\n",
      "only showing top 10 rows\n",
      "\n"
     ]
    }
   ],
   "source": [
    "conversion_tmp = spark.sql(\"\"\"\n",
    "                            SELECT \n",
    "                                DATE(ts) AS date,\n",
    "                                HOUR(ts) AS hour,\n",
    "                                job_id,\n",
    "                                campaign_id,\n",
    "                                group_id,\n",
    "                                publisher_id,\n",
    "                                COUNT(*) AS conversion\n",
    "                            FROM\n",
    "                                conversion\n",
    "                            GROUP BY\n",
    "                                date,\n",
    "                                hour,\n",
    "                                job_id,\n",
    "                                campaign_id,\n",
    "                                group_id,\n",
    "                                publisher_id\"\"\")\n",
    "conversion_tmp.show(10)"
   ]
  },
  {
   "attachments": {},
   "cell_type": "markdown",
   "metadata": {},
   "source": [
    "<b>Xử lý custom_track = qualified"
   ]
  },
  {
   "cell_type": "code",
   "execution_count": 17,
   "metadata": {},
   "outputs": [],
   "source": [
    "qualified_data = data.filter(data.custom_track == \"qualified\")\n",
    "qualified_data.createOrReplaceTempView(\"qualified\")"
   ]
  },
  {
   "cell_type": "code",
   "execution_count": 18,
   "metadata": {},
   "outputs": [
    {
     "name": "stdout",
     "output_type": "stream",
     "text": [
      "+-------------------+------+------------+---+-----------+--------+------------+\n",
      "|                 ts|job_id|custom_track|bid|campaign_id|group_id|publisher_id|\n",
      "+-------------------+------+------------+---+-----------+--------+------------+\n",
      "|2023-01-14 21:41:07| 245.0|   qualified|0.0|        1.0|    13.0|        24.0|\n",
      "|2023-01-14 21:56:05| 782.0|   qualified|0.0|       48.0|    10.0|        17.0|\n",
      "|2023-01-14 21:47:14| 192.0|   qualified|0.0|       51.0|    41.0|        15.0|\n",
      "|2023-01-14 21:47:14| 339.0|   qualified|0.0|       12.0|    41.0|        29.0|\n",
      "|2023-01-14 21:56:05|1656.0|   qualified|0.0|       58.0|    17.0|        12.0|\n",
      "|2023-01-14 21:49:14|1400.0|   qualified|1.0|       79.0|    17.0|        30.0|\n",
      "|2023-01-14 21:47:14|1981.0|   qualified|1.0|       13.0|    15.0|        30.0|\n",
      "|2023-01-14 21:47:44| 671.0|   qualified|0.0|       12.0|    17.0|        34.0|\n",
      "|2023-01-14 21:54:04| 496.0|   qualified|1.0|        1.0|    17.0|        38.0|\n",
      "|2023-01-14 21:49:14| 379.0|   qualified|1.0|       12.0|    22.0|         3.0|\n",
      "+-------------------+------+------------+---+-----------+--------+------------+\n",
      "only showing top 10 rows\n",
      "\n"
     ]
    }
   ],
   "source": [
    "spark.sql(\"SELECT * FROM qualified\").show(10)"
   ]
  },
  {
   "cell_type": "code",
   "execution_count": 19,
   "metadata": {},
   "outputs": [
    {
     "name": "stdout",
     "output_type": "stream",
     "text": [
      "+----------+----+------+-----------+--------+------------+---------+\n",
      "|      date|hour|job_id|campaign_id|group_id|publisher_id|qualified|\n",
      "+----------+----+------+-----------+--------+------------+---------+\n",
      "|2023-01-14|  21| 339.0|       12.0|    41.0|        29.0|        1|\n",
      "|2023-01-14|  21| 192.0|       51.0|    41.0|        15.0|        1|\n",
      "|2023-01-14|  21|1086.0|       48.0|    13.0|        15.0|        1|\n",
      "|2023-01-14|  21|1656.0|       58.0|    17.0|        12.0|        1|\n",
      "|2023-01-14|  21| 379.0|       12.0|    22.0|         3.0|        1|\n",
      "|2023-01-14|  21| 263.0|       59.0|    26.0|         3.0|        1|\n",
      "|2023-01-14|  21|1400.0|       79.0|    17.0|        30.0|        1|\n",
      "|2023-01-14|  21|1644.0|      141.0|    10.0|        22.0|        1|\n",
      "|2023-01-14|  21| 496.0|        1.0|    17.0|        38.0|        1|\n",
      "|2023-01-14|  21|1218.0|       33.0|    22.0|        12.0|        1|\n",
      "+----------+----+------+-----------+--------+------------+---------+\n",
      "only showing top 10 rows\n",
      "\n"
     ]
    }
   ],
   "source": [
    "qualified_tmp = spark.sql(\"\"\"\n",
    "                            SELECT \n",
    "                                DATE(ts) AS date,\n",
    "                                HOUR(ts) AS hour,\n",
    "                                job_id,\n",
    "                                campaign_id,\n",
    "                                group_id,\n",
    "                                publisher_id,\n",
    "                                COUNT(*) AS qualified\n",
    "                            FROM\n",
    "                                qualified\n",
    "                            GROUP BY\n",
    "                                date,\n",
    "                                hour,\n",
    "                                job_id,\n",
    "                                campaign_id,\n",
    "                                group_id,\n",
    "                                publisher_id\"\"\")\n",
    "qualified_tmp.show(10)"
   ]
  },
  {
   "attachments": {},
   "cell_type": "markdown",
   "metadata": {},
   "source": [
    "<b>Xử lý custom_track = unqualified"
   ]
  },
  {
   "cell_type": "code",
   "execution_count": 20,
   "metadata": {},
   "outputs": [],
   "source": [
    "unqualified_data = data.filter(data.custom_track == \"unqualified\")\n",
    "unqualified_data.createOrReplaceTempView(\"unqualified\")"
   ]
  },
  {
   "cell_type": "code",
   "execution_count": 21,
   "metadata": {},
   "outputs": [
    {
     "name": "stdout",
     "output_type": "stream",
     "text": [
      "+-------------------+------+------------+---+-----------+--------+------------+\n",
      "|                 ts|job_id|custom_track|bid|campaign_id|group_id|publisher_id|\n",
      "+-------------------+------+------------+---+-----------+--------+------------+\n",
      "|2023-01-14 21:47:14| 512.0| unqualified|0.0|       61.0|    35.0|        17.0|\n",
      "|2023-01-14 21:54:04|2002.0| unqualified|1.0|       15.0|    17.0|        33.0|\n",
      "|2023-01-14 21:55:04|1945.0| unqualified|1.0|       13.0|    10.0|        33.0|\n",
      "|2023-01-14 21:41:07|2051.0| unqualified|0.0|      122.0|    41.0|         9.0|\n",
      "|2023-01-14 21:56:05| 538.0| unqualified|1.0|        5.0|    31.0|        36.0|\n",
      "|2023-01-14 21:56:05| 285.0| unqualified|1.0|       57.0|    41.0|         9.0|\n",
      "|2023-01-14 21:56:05| 990.0| unqualified|1.0|       70.0|    21.0|        10.0|\n",
      "|2023-01-14 21:55:04| 311.0| unqualified|0.0|       53.0|    14.0|        12.0|\n",
      "|2023-01-14 21:47:14|  76.0| unqualified|1.0|       54.0|    10.0|        33.0|\n",
      "|2023-01-14 21:55:35| 760.0| unqualified|0.0|       13.0|    32.0|        37.0|\n",
      "+-------------------+------+------------+---+-----------+--------+------------+\n",
      "only showing top 10 rows\n",
      "\n"
     ]
    }
   ],
   "source": [
    "spark.sql(\"SELECT * FROM unqualified\").show(10)"
   ]
  },
  {
   "cell_type": "code",
   "execution_count": 22,
   "metadata": {},
   "outputs": [
    {
     "name": "stdout",
     "output_type": "stream",
     "text": [
      "+----------+----+------+-----------+--------+------------+-----------+\n",
      "|      date|hour|job_id|campaign_id|group_id|publisher_id|unqualified|\n",
      "+----------+----+------+-----------+--------+------------+-----------+\n",
      "|2023-01-14|  21|1688.0|       61.0|    26.0|        17.0|          1|\n",
      "|2023-01-14|  21|1791.0|        5.0|    10.0|        10.0|          1|\n",
      "|2023-01-14|  21|2002.0|       15.0|    17.0|        33.0|          1|\n",
      "|2023-01-14|  21|1632.0|       58.0|    10.0|        13.0|          1|\n",
      "|2023-01-14|  21| 760.0|       13.0|    32.0|        37.0|          1|\n",
      "|2023-01-14|  21| 538.0|        5.0|    31.0|        36.0|          1|\n",
      "|2023-01-14|  21| 885.0|       13.0|    15.0|        12.0|          1|\n",
      "|2023-01-14|  21|2051.0|      122.0|    41.0|         9.0|          1|\n",
      "|2023-01-14|  21|1130.0|      117.0|    19.0|        30.0|          1|\n",
      "|2023-01-14|  21|1414.0|       10.0|    10.0|        24.0|          1|\n",
      "+----------+----+------+-----------+--------+------------+-----------+\n",
      "only showing top 10 rows\n",
      "\n"
     ]
    }
   ],
   "source": [
    "unqualified_tmp = spark.sql(\"\"\"\n",
    "                            SELECT \n",
    "                                DATE(ts) AS date,\n",
    "                                HOUR(ts) AS hour,\n",
    "                                job_id,\n",
    "                                campaign_id,\n",
    "                                group_id,\n",
    "                                publisher_id,\n",
    "                                COUNT(*) AS unqualified\n",
    "                            FROM\n",
    "                                unqualified\n",
    "                            GROUP BY\n",
    "                                date,\n",
    "                                hour,\n",
    "                                job_id,\n",
    "                                campaign_id,\n",
    "                                group_id,\n",
    "                                publisher_id\"\"\")\n",
    "unqualified_tmp.show(10)"
   ]
  },
  {
   "attachments": {},
   "cell_type": "markdown",
   "metadata": {},
   "source": [
    "<b> Output mong muốn: Trong một giờ(ngày) đó có bao nhiêu click, conversion, qualified, unqualified với mỗi id tương ứng"
   ]
  },
  {
   "cell_type": "code",
   "execution_count": 23,
   "metadata": {},
   "outputs": [
    {
     "name": "stdout",
     "output_type": "stream",
     "text": [
      "+----------+----+------+-----------+--------+------------+-------+----------+-----+----------+---------+-----------+\n",
      "|      date|hour|job_id|campaign_id|group_id|publisher_id|bid_set|spend_time|click|conversion|qualified|unqualified|\n",
      "+----------+----+------+-----------+--------+------------+-------+----------+-----+----------+---------+-----------+\n",
      "|2023-01-14|  21| 125.0|        1.0|    32.0|        29.0|   null|      null| null|         1|     null|       null|\n",
      "|2023-01-14|  21| 339.0|       12.0|    41.0|        29.0|   null|      null| null|      null|        1|       null|\n",
      "|2022-07-08|   4| 187.0|       48.0|    null|         1.0|    0.0|       0.0|    2|      null|     null|       null|\n",
      "|2023-01-14|  21|1592.0|       10.0|    32.0|        28.0|    1.0|       1.0|    1|      null|     null|       null|\n",
      "|2022-07-26|   3|1534.0|      222.0|    null|         1.0|    0.0|       0.0|   16|      null|     null|       null|\n",
      "+----------+----+------+-----------+--------+------------+-------+----------+-----+----------+---------+-----------+\n",
      "only showing top 5 rows\n",
      "\n"
     ]
    }
   ],
   "source": [
    "final_data = click_tmp.join(conversion_tmp, on = ['date', 'hour', 'job_id', 'campaign_id', 'group_id', 'publisher_id'], how = 'full').\\\n",
    "                       join(qualified_tmp, on = ['date', 'hour', 'job_id', 'campaign_id', 'group_id', 'publisher_id'], how = 'full').\\\n",
    "                       join(unqualified_tmp,on = ['date', 'hour', 'job_id', 'campaign_id', 'group_id', 'publisher_id'], how = 'full')\n",
    "\n",
    "final_data.show(5)"
   ]
  },
  {
   "attachments": {},
   "cell_type": "markdown",
   "metadata": {},
   "source": [
    "<b> merge company_id của table company vào output "
   ]
  },
  {
   "cell_type": "code",
   "execution_count": 27,
   "metadata": {},
   "outputs": [],
   "source": [
    "df = spark.read \\\n",
    "    .format(\"jdbc\") \\\n",
    "    .option(\"driver\",\"com.mysql.cj.jdbc.Driver\") \\\n",
    "    .option(\"url\", \"jdbc:mysql://localhost:3306/data_engineering\") \\\n",
    "    .option(\"dbtable\", \"company\") \\\n",
    "    .option(\"user\", \"root\") \\\n",
    "    .option(\"password\", \"1\") \\\n",
    "    .load()"
   ]
  },
  {
   "cell_type": "code",
   "execution_count": 28,
   "metadata": {},
   "outputs": [
    {
     "name": "stdout",
     "output_type": "stream",
     "text": [
      "+----------+------------+\n",
      "|id_company|publisher_id|\n",
      "+----------+------------+\n",
      "|         1|        null|\n",
      "|         2|        null|\n",
      "|         3|        null|\n",
      "|         4|        null|\n",
      "|         8|        null|\n",
      "|        10|        null|\n",
      "|        11|        null|\n",
      "|        12|        null|\n",
      "|        13|        null|\n",
      "|        14|        null|\n",
      "+----------+------------+\n",
      "only showing top 10 rows\n",
      "\n"
     ]
    }
   ],
   "source": [
    "id_company = df.select(df.id.alias('id_company'),\"publisher_id\")\n",
    "id_company.show(10)"
   ]
  },
  {
   "cell_type": "code",
   "execution_count": 29,
   "metadata": {},
   "outputs": [
    {
     "name": "stdout",
     "output_type": "stream",
     "text": [
      "+------------+----------+----+------+-----------+--------+-------+----------+-----+----------+---------+-----------+----------+\n",
      "|publisher_id|      date|hour|job_id|campaign_id|group_id|bid_set|spend_time|click|conversion|qualified|unqualified|id_company|\n",
      "+------------+----------+----+------+-----------+--------+-------+----------+-----+----------+---------+-----------+----------+\n",
      "|        29.0|2023-01-14|  21| 125.0|        1.0|    32.0|   null|      null| null|         1|     null|       null|      null|\n",
      "|        29.0|2023-01-14|  21| 339.0|       12.0|    41.0|   null|      null| null|      null|        1|       null|      null|\n",
      "|        29.0|2023-01-14|  21| 737.0|       12.0|    19.0|    0.0|       0.0|    1|      null|     null|       null|      null|\n",
      "|        null|      null|null|  null|       null|    null|   null|      null| null|      null|     null|       null|         1|\n",
      "|        null|      null|null|  null|       null|    null|   null|      null| null|      null|     null|       null|         2|\n",
      "|        null|      null|null|  null|       null|    null|   null|      null| null|      null|     null|       null|         3|\n",
      "|        null|      null|null|  null|       null|    null|   null|      null| null|      null|     null|       null|         4|\n",
      "|        null|      null|null|  null|       null|    null|   null|      null| null|      null|     null|       null|         8|\n",
      "|        null|      null|null|  null|       null|    null|   null|      null| null|      null|     null|       null|        10|\n",
      "|        null|      null|null|  null|       null|    null|   null|      null| null|      null|     null|       null|        11|\n",
      "|        null|      null|null|  null|       null|    null|   null|      null| null|      null|     null|       null|        12|\n",
      "|        null|      null|null|  null|       null|    null|   null|      null| null|      null|     null|       null|        13|\n",
      "|        null|      null|null|  null|       null|    null|   null|      null| null|      null|     null|       null|        14|\n",
      "|        null|      null|null|  null|       null|    null|   null|      null| null|      null|     null|       null|        15|\n",
      "|        null|      null|null|  null|       null|    null|   null|      null| null|      null|     null|       null|        16|\n",
      "|        null|      null|null|  null|       null|    null|   null|      null| null|      null|     null|       null|        17|\n",
      "|        null|      null|null|  null|       null|    null|   null|      null| null|      null|     null|       null|        19|\n",
      "|        null|      null|null|  null|       null|    null|   null|      null| null|      null|     null|       null|        20|\n",
      "|        null|      null|null|  null|       null|    null|   null|      null| null|      null|     null|       null|        21|\n",
      "|        null|      null|null|  null|       null|    null|   null|      null| null|      null|     null|       null|        23|\n",
      "+------------+----------+----+------+-----------+--------+-------+----------+-----+----------+---------+-----------+----------+\n",
      "only showing top 20 rows\n",
      "\n"
     ]
    }
   ],
   "source": [
    "output_ETL_final = final_data.join(id_company, on = \"publisher_id\", how = \"full\")\n",
    "output_ETL_final.show()"
   ]
  },
  {
   "cell_type": "code",
   "execution_count": 30,
   "metadata": {},
   "outputs": [
    {
     "name": "stdout",
     "output_type": "stream",
     "text": [
      "root\n",
      " |-- publisher_id: double (nullable = true)\n",
      " |-- date: date (nullable = true)\n",
      " |-- hour: integer (nullable = true)\n",
      " |-- job_id: double (nullable = true)\n",
      " |-- campaign_id: double (nullable = true)\n",
      " |-- group_id: double (nullable = true)\n",
      " |-- bid_set: double (nullable = true)\n",
      " |-- spend_time: double (nullable = true)\n",
      " |-- click: long (nullable = true)\n",
      " |-- conversion: long (nullable = true)\n",
      " |-- qualified: long (nullable = true)\n",
      " |-- unqualified: long (nullable = true)\n",
      " |-- id_company: integer (nullable = true)\n",
      "\n"
     ]
    }
   ],
   "source": [
    "output_ETL_final.printSchema()"
   ]
  },
  {
   "attachments": {},
   "cell_type": "markdown",
   "metadata": {},
   "source": [
    "<b> Load dữ liệu vào bảng event trong Data warehouse"
   ]
  },
  {
   "cell_type": "code",
   "execution_count": 31,
   "metadata": {},
   "outputs": [],
   "source": [
    "output_ETL_final.write.format('jdbc').option('url','jdbc:mysql://localhost:3306/data_engineering')\\\n",
    "                                     .option('driver','com.mysql.cj.jdbc.Driver')\\\n",
    "                                     .option('dbtable','event_DW')\\\n",
    "                                     .option('user','root')\\\n",
    "                                     .option('password','1').mode('append').save()"
   ]
  },
  {
   "attachments": {},
   "cell_type": "markdown",
   "metadata": {},
   "source": [
    "Check table"
   ]
  },
  {
   "cell_type": "code",
   "execution_count": 32,
   "metadata": {},
   "outputs": [],
   "source": [
    "event_DW_df = spark.read \\\n",
    "                .format(\"jdbc\") \\\n",
    "                .option(\"driver\",\"com.mysql.cj.jdbc.Driver\") \\\n",
    "                .option(\"url\", \"jdbc:mysql://localhost:3306/data_engineering\") \\\n",
    "                .option(\"dbtable\", \"event_DW\") \\\n",
    "                .option(\"user\", \"root\") \\\n",
    "                .option(\"password\", \"1\") \\\n",
    "                .load()"
   ]
  },
  {
   "cell_type": "code",
   "execution_count": 34,
   "metadata": {},
   "outputs": [
    {
     "name": "stdout",
     "output_type": "stream",
     "text": [
      "+------------+----------+----+------+-----------+--------+-------+----------+-----+----------+---------+-----------+----------+\n",
      "|publisher_id|      date|hour|job_id|campaign_id|group_id|bid_set|spend_time|click|conversion|qualified|unqualified|id_company|\n",
      "+------------+----------+----+------+-----------+--------+-------+----------+-----+----------+---------+-----------+----------+\n",
      "|         4.0|      null|null|  null|       null|    null|   null|      null| null|      null|     null|       null|        58|\n",
      "|         1.0|2022-07-08|   4| 187.0|       48.0|    null|    0.0|       0.0|    2|      null|     null|       null|        59|\n",
      "|         1.0|2022-07-26|   3|1534.0|      222.0|    null|    0.0|       0.0|   16|      null|     null|       null|        59|\n",
      "|         1.0|2022-07-25|   9| 188.0|       48.0|    34.0|    1.0|      52.0|   52|      null|     null|       null|        59|\n",
      "|         1.0|2022-07-26|   2|1527.0|      222.0|    null|    0.0|       0.0|   10|      null|     null|       null|        59|\n",
      "+------------+----------+----+------+-----------+--------+-------+----------+-----+----------+---------+-----------+----------+\n",
      "only showing top 5 rows\n",
      "\n"
     ]
    }
   ],
   "source": [
    "event_DW_df.filter(event_DW_df.publisher_id.isNotNull() & event_DW_df.id_company.isNotNull()).show(5)"
   ]
  }
 ],
 "metadata": {
  "kernelspec": {
   "display_name": "Python 3",
   "language": "python",
   "name": "python3"
  },
  "language_info": {
   "codemirror_mode": {
    "name": "ipython",
    "version": 3
   },
   "file_extension": ".py",
   "mimetype": "text/x-python",
   "name": "python",
   "nbconvert_exporter": "python",
   "pygments_lexer": "ipython3",
   "version": "3.10.10"
  },
  "orig_nbformat": 4
 },
 "nbformat": 4,
 "nbformat_minor": 2
}
